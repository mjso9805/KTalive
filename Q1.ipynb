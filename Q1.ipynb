{
  "nbformat": 4,
  "nbformat_minor": 0,
  "metadata": {
    "colab": {
      "name": "Q1.ipynb",
      "provenance": [],
      "authorship_tag": "ABX9TyMJZGL1U/O4CBJN0KEget6B",
      "include_colab_link": true
    },
    "kernelspec": {
      "name": "python3",
      "display_name": "Python 3"
    },
    "language_info": {
      "name": "python"
    }
  },
  "cells": [
    {
      "cell_type": "markdown",
      "metadata": {
        "id": "view-in-github",
        "colab_type": "text"
      },
      "source": [
        "<a href=\"https://colab.research.google.com/github/mjso9805/KTalive/blob/main/Q1.ipynb\" target=\"_parent\"><img src=\"https://colab.research.google.com/assets/colab-badge.svg\" alt=\"Open In Colab\"/></a>"
      ]
    },
    {
      "cell_type": "markdown",
      "source": [
        "### Q1 (https://programmers.co.kr/learn/courses/30/lessons/77484)\n",
        "### 로또 6/45(이하 '로또'로 표기)는 1부터 45까지의 숫자 중 6개를 찍어서 맞히는 대표적인 복권입니다. 아래는 로또의 순위를 정하는 방식입니다. \n",
        "\n",
        "|순위\t| 당첨  내용\n",
        "|----|---------\n",
        "| 1\t | 6개 번호가 모두 일치\n",
        "| 2\t | 5개 번호가 일치\n",
        "| 3\t | 4개 번호가 일치\n",
        "| 4\t | 3개 번호가 일치\n",
        "| 5\t | 2개 번호가 일치\n",
        "| 6  | (낙첨)\t그 외\n",
        "\n",
        "### 로또를 구매한 민우는 당첨 번호 발표일을 학수고대하고 있었습니다. 하지만, 민우의 동생이 로또에 낙서를 하여, 일부 번호를 알아볼 수 없게 되었습니다. 당첨 번호 발표 후, 민우는 자신이 구매했던 로또로 당첨이 가능했던 최고 순위와 최저 순위를 알아보고 싶어 졌습니다. 알아볼 수 없는 번호를 0으로 표기하기로 하고, 민우가 구매한 로또 번호 6개가 44, 1, 0, 0, 31 25라고 가정해보겠습니다. 당첨 번호 6개가 31, 10, 45, 1, 6, 19라면, 당첨 가능한 최고 순위와 최저 순위의 한 예는 아래와 같습니다.\n",
        "\n",
        "| 당첨 번호\t    | 31 10 45 1 6 19\t| 결과\n",
        "|-------------|-------------------|-----------------\n",
        "| 최고 순위 번호 | 31\t0→10 44\t1 0→6 25 | 4개 번호 일치, 3등\n",
        "| 최저 순위 번호 | 31\t0→11 44\t1 0→7 25 | 2개 번호 일치, 5등\n",
        "\n",
        "- 순서와 상관없이, 구매한 로또에 당첨 번호와 일치하는 번호가 있으면 맞힌 걸로 인정됩니다.\n",
        "- 알아볼 수 없는 두 개의 번호를 각각 10, 6이라고 가정하면 3등에 당첨될 수 있습니다.\n",
        "- 3등을 만드는 다른 방법들도 존재합니다. 하지만, 2등 이상으로 만드는 것은 불가능합니다.\n",
        "- 알아볼 수 없는 두 개의 번호를 각각 11, 7이라고 가정하면 5등에 당첨될 수 있습니다.\n",
        "- 5등을 만드는 다른 방법들도 존재합니다. 하지만, 6등(낙첨)으로 만드는 것은 불가능합니다.\n",
        "\n",
        "### 민우가 구매한 로또 번호를 담은 배열 lottos, 당첨 번호를 담은 배열 win_nums가 매개변수로 주어집니다. 이때, 당첨 가능한 최고 순위와 최저 순위를 차례대로 배열에 담아서 return 하도록 solution 함수를 완성해주세요.\n",
        "\n",
        "### 제한사항\n",
        "- lottos는 길이 6인 정수 배열입니다.\n",
        "- lottos의 모든 원소는 0 이상 45 이하인 정수입니다.\n",
        "- 0은 알아볼 수 없는 숫자를 의미합니다.\n",
        "- 0을 제외한 다른 숫자들은 lottos에 2개 이상 담겨있지 않습니다.\n",
        "- lottos의 원소들은 정렬되어 있지 않을 수도 있습니다.\n",
        "- win_nums은 길이 6인 정수 배열입니다.\n",
        "- win_nums의 모든 원소는 1 이상 45 이하인 정수입니다.\n",
        "- win_nums에는 같은 숫자가 2개 이상 담겨있지 않습니다.\n",
        "- win_nums의 원소들은 정렬되어 있지 않을 수도 있습니다.\n",
        "\n",
        "### 입출력 예\n",
        "| lottos\t| win_nums\t| result\n",
        "|-----------|-----------|--------------\n",
        "|[44, 1, 0, 0, 31, 25]|\t[31, 10, 45, 1, 6, 19]|\t[3, 5]\n",
        "|[0, 0, 0, 0, 0, 0]\t|[38, 19, 20, 40, 15, 25]\t|[1, 6]\n",
        "|[45, 4, 35, 20, 3, 9]\t|[20, 9, 3, 45, 4, 35]\t|[1, 1]\n",
        "\n"
      ],
      "metadata": {
        "id": "GDgWjerGndTw"
      }
    },
    {
      "cell_type": "code",
      "source": [
        "# Q1 Answer template\n",
        "\n",
        "def solution(lottos, win_nums):\n",
        "    answer = []\n",
        "    zeros = 0\n",
        "    cnt = 0\n",
        "\n",
        "    for i in range(len(lottos)):\n",
        "      if lottos[i] == 0:\n",
        "        zeros += 1\n",
        "\n",
        "    for i in range(len(lottos)):\n",
        "      for j in range(len(win_nums)):\n",
        "        if lottos[i]==win_nums[j]:\n",
        "          cnt+=1\n",
        "\n",
        "\n",
        "    win = zeros + cnt\n",
        "    answer = find_result(win), find_result(cnt)\n",
        "    return answer\n",
        "\n",
        "def find_result(num):\n",
        "    if num <2:\n",
        "        return 6\n",
        "    elif num == 2:\n",
        "        return 5\n",
        "    elif num == 3:\n",
        "        return 4\n",
        "    elif num == 4:\n",
        "        return 3\n",
        "    elif num == 5:\n",
        "        return 2\n",
        "    else :\n",
        "        return 1\n",
        "\n",
        "lottos = [44, 1, 0, 0, 31, 25]\n",
        "win_nums = [31, 10, 45, 1, 6, 19]\n",
        "\n",
        "answer = solution(lottos, win_nums)\n",
        "print(answer)"
      ],
      "metadata": {
        "colab": {
          "base_uri": "https://localhost:8080/"
        },
        "id": "cBdU7UZgneMZ",
        "outputId": "c977b4ec-786e-4f86-8f73-c8fd7f61adca"
      },
      "execution_count": 1,
      "outputs": [
        {
          "output_type": "stream",
          "name": "stdout",
          "text": [
            "(3, 5)\n"
          ]
        }
      ]
    }
  ]
}
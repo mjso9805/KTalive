{
  "nbformat": 4,
  "nbformat_minor": 0,
  "metadata": {
    "colab": {
      "name": "KT alive 파이썬 1일차 실습.ipynb",
      "provenance": [],
      "toc_visible": true,
      "authorship_tag": "ABX9TyP0Eny3JzFyaGghvNnv8sQY",
      "include_colab_link": true
    },
    "kernelspec": {
      "name": "python3",
      "display_name": "Python 3"
    },
    "language_info": {
      "name": "python"
    }
  },
  "cells": [
    {
      "cell_type": "markdown",
      "metadata": {
        "id": "view-in-github",
        "colab_type": "text"
      },
      "source": [
        "<a href=\"https://colab.research.google.com/github/mjso9805/KTalive/blob/main/KT_alive_%ED%8C%8C%EC%9D%B4%EC%8D%AC_1%EC%9D%BC%EC%B0%A8_%EC%8B%A4%EC%8A%B5.ipynb\" target=\"_parent\"><img src=\"https://colab.research.google.com/assets/colab-badge.svg\" alt=\"Open In Colab\"/></a>"
      ]
    },
    {
      "cell_type": "markdown",
      "source": [
        "미니 실습1"
      ],
      "metadata": {
        "id": "8N0oB3iXfxww"
      }
    },
    {
      "cell_type": "code",
      "execution_count": null,
      "metadata": {
        "colab": {
          "base_uri": "https://localhost:8080/"
        },
        "id": "J0PuT7bJqhR5",
        "outputId": "2a6953bd-4573-4eae-c4e0-f765232d811b"
      },
      "outputs": [
        {
          "output_type": "stream",
          "name": "stdout",
          "text": [
            "1 7 2 4\n",
            "7\n"
          ]
        }
      ],
      "source": [
        "n = list(map(int, input().split()))\n",
        "\n",
        "n.sort(reverse=True)\n",
        "\n",
        "print(n[0])"
      ]
    },
    {
      "cell_type": "markdown",
      "source": [
        "미니 실습2"
      ],
      "metadata": {
        "id": "fEucK2dLf0nh"
      }
    },
    {
      "cell_type": "code",
      "source": [
        "company = str(input())\n",
        "use = int(input())\n",
        "\n",
        "def pay(company, use):\n",
        "  if(company=='A'):\n",
        "    print(use*100)\n",
        "  elif (company=='B'):\n",
        "    if (use<=50):\n",
        "      print(use*150)\n",
        "    else:\n",
        "      print(use*75)\n",
        "\n",
        "pay(company, use)"
      ],
      "metadata": {
        "colab": {
          "base_uri": "https://localhost:8080/"
        },
        "id": "-Ob3FuI8f2SR",
        "outputId": "86db9613-ea55-43ff-b3f1-a6b5a3f018b3"
      },
      "execution_count": null,
      "outputs": [
        {
          "output_type": "stream",
          "name": "stdout",
          "text": [
            "B\n",
            "100\n",
            "7500\n"
          ]
        }
      ]
    },
    {
      "cell_type": "markdown",
      "source": [
        "미니실습 3"
      ],
      "metadata": {
        "id": "K_WoXKzrnb3a"
      }
    },
    {
      "cell_type": "code",
      "source": [
        "print('a부터 b까지 정수의 합을 구합니다.')\n",
        "a = int(input('정수 a를 입력하세요.: '))\n",
        "b = int(input('정수 b를 입력하세요.: '))\n",
        "\n",
        "if a > b:\n",
        "  a, b = b, a\n",
        "  \n",
        "sum = 0\n",
        "for i in range(a, b+1):\n",
        "  if i < b:\n",
        "    print(f'{i} + ', end='')\n",
        "  sum +=i\n",
        "\n",
        "print(f'{b} = ', end='')\n",
        "print(sum)\n"
      ],
      "metadata": {
        "colab": {
          "base_uri": "https://localhost:8080/"
        },
        "id": "Mu6KHk6WneA5",
        "outputId": "a50b96be-f26b-44e5-ac2d-f8483f057ca2"
      },
      "execution_count": null,
      "outputs": [
        {
          "output_type": "stream",
          "name": "stdout",
          "text": [
            "a부터 b까지 정수의 합을 구합니다.\n",
            "정수 a를 입력하세요.: 3\n",
            "정수 b를 입력하세요.: 7\n",
            "3 + 4 + 5 + 6 + 7 = 25\n"
          ]
        }
      ]
    },
    {
      "cell_type": "markdown",
      "source": [
        "미니 실습4"
      ],
      "metadata": {
        "id": "BOH79Ge2s3fh"
      }
    },
    {
      "cell_type": "code",
      "source": [
        "area = int(input('직사각형의 넓이를 입력하세요.: '))\n",
        "for i in range(1, area + 1):\n",
        "  if i * (area // i) > area:\n",
        "    break\n",
        "  if area % i: \n",
        "    continue\n",
        "  print(f'{i} x {area // i}')\n"
      ],
      "metadata": {
        "colab": {
          "base_uri": "https://localhost:8080/"
        },
        "id": "nK8UeIMLs7-A",
        "outputId": "66fc2136-b5aa-49cf-c7d3-48c0abc08c60"
      },
      "execution_count": null,
      "outputs": [
        {
          "output_type": "stream",
          "name": "stdout",
          "text": [
            "직사각형의 넓이를 입력하세요.: 32\n",
            "1 x 32\n",
            "2 x 16\n",
            "4 x 8\n",
            "8 x 4\n",
            "16 x 2\n",
            "32 x 1\n"
          ]
        }
      ]
    },
    {
      "cell_type": "markdown",
      "source": [
        "실습1"
      ],
      "metadata": {
        "id": "YVGPV6OKuDvJ"
      }
    },
    {
      "cell_type": "code",
      "source": [
        "kWh = int(input())\n",
        "\n",
        "def electricPay(kWh):\n",
        "  sum = 0\n",
        "\n",
        "  if kWh < 100:\n",
        "    sum += (410 + 60.7*kWh)\n",
        "  elif kWh <= 200 & kWh >= 100:\n",
        "    sum += (910 + 60.7*100 + 125.9*(kWh-100))\n",
        "  else:\n",
        "    sum += (1600 + 60.7*100 + 125.9*100 + 187.9*(kWh-200))\n",
        "\n",
        "  print(int(sum*1.137))\n",
        "\n",
        "electricPay(kWh)"
      ],
      "metadata": {
        "colab": {
          "base_uri": "https://localhost:8080/"
        },
        "id": "SjuXzi4LuIbw",
        "outputId": "a86ddde0-440d-4f89-acc0-9b62de19f0a9"
      },
      "execution_count": null,
      "outputs": [
        {
          "output_type": "stream",
          "name": "stdout",
          "text": [
            "250\n",
            "33717\n"
          ]
        }
      ]
    },
    {
      "cell_type": "markdown",
      "source": [
        "실습2"
      ],
      "metadata": {
        "id": "D-9iPvpMxvvR"
      }
    },
    {
      "cell_type": "code",
      "source": [
        "print(\"+와 -를 번갈아 출력합니다.\")\n",
        "n = int(input('몇 개를 출력할까요?'))\n",
        "\n",
        "for i in range(1,n+1):\n",
        "  if(i%2==1):\n",
        "    print(\"+\",end=\"\")\n",
        "  else:\n",
        "    print(\"-\",end=\"\")"
      ],
      "metadata": {
        "colab": {
          "base_uri": "https://localhost:8080/"
        },
        "id": "-Pz8JwJuxu2K",
        "outputId": "351f9aef-119e-433c-dc90-249c8d4eded1"
      },
      "execution_count": null,
      "outputs": [
        {
          "output_type": "stream",
          "name": "stdout",
          "text": [
            "+와 -를 번갈아 출력합니다.\n",
            "몇 개를 출력할까요?12\n",
            "+-+-+-+-+-+-"
          ]
        }
      ]
    },
    {
      "cell_type": "markdown",
      "source": [
        "실습3"
      ],
      "metadata": {
        "id": "aPZ66bhszCJC"
      }
    },
    {
      "cell_type": "code",
      "source": [
        "for i in range(1,13):\n",
        "  if(i!=8):\n",
        "    print(i, end=\" \")"
      ],
      "metadata": {
        "colab": {
          "base_uri": "https://localhost:8080/"
        },
        "id": "xvzteKTczCSD",
        "outputId": "ee05cf5a-f9f6-461b-f08c-b7009835a2ce"
      },
      "execution_count": null,
      "outputs": [
        {
          "output_type": "stream",
          "name": "stdout",
          "text": [
            "1 2 3 4 5 6 7 9 10 11 12 "
          ]
        }
      ]
    },
    {
      "cell_type": "markdown",
      "source": [
        "실습 4"
      ],
      "metadata": {
        "id": "dLqCrUtzH0Zb"
      }
    },
    {
      "cell_type": "code",
      "source": [
        "n = int(input())\n",
        "cnt = 0\n",
        "\n",
        "for i in range(n):\n",
        "  for j in range(1,6):\n",
        "    if (i**j)==n:\n",
        "      cnt +=1\n",
        "      print(f\"{i}, {j}\")\n",
        "    else:\n",
        "      continue\n",
        "\n",
        "if cnt==0:\n",
        "  print(\"결과 없음\")\n"
      ],
      "metadata": {
        "colab": {
          "base_uri": "https://localhost:8080/"
        },
        "id": "j32prFM-Hzo9",
        "outputId": "a85e085a-3032-4335-9e94-1273879e18a0"
      },
      "execution_count": null,
      "outputs": [
        {
          "output_type": "stream",
          "name": "stdout",
          "text": [
            "8\n",
            "2, 3\n"
          ]
        }
      ]
    },
    {
      "cell_type": "markdown",
      "source": [
        "### Q0\n",
        "\n",
        "### 두 정수의 최대공약수를 구하라. 최대공약수는 두 정수를 나머지가 0이 되게 나누는 공통된 약수 중 최대값을 가진 수이다. \n",
        "\n",
        "### 예\n",
        "- 12, 16의 최대공약수 4\n",
        "- 2, 4의 최대공약수 2\n",
        "\n",
        "### tips\n",
        "- if 문에 조건이 두 개인 경우는 and 또는 or 논리연산자 사용\n",
        "\n",
        "### 제한사항 \n",
        "- 두 정수는 서로 다른 수이다."
      ],
      "metadata": {
        "id": "AscdjxXzLAh8"
      }
    },
    {
      "cell_type": "code",
      "source": [
        "import math\n",
        "# 내장 함수\n",
        "a = int(input())\n",
        "b = int(input())\n",
        "\n",
        "print(math.gcd(a,b))"
      ],
      "metadata": {
        "colab": {
          "base_uri": "https://localhost:8080/"
        },
        "id": "rxpwxZVuK_ur",
        "outputId": "c00a7ccc-a8c3-4571-c753-ae6321909c82"
      },
      "execution_count": null,
      "outputs": [
        {
          "output_type": "stream",
          "name": "stdout",
          "text": [
            "12\n",
            "16\n",
            "4\n"
          ]
        }
      ]
    },
    {
      "cell_type": "code",
      "source": [
        "a = int(input())\n",
        "b = int(input())\n",
        "\n",
        "# 유클리드 호재법\n",
        "while(b):\n",
        "  a,b = b,a%b\n",
        "\n",
        "print(a)"
      ],
      "metadata": {
        "colab": {
          "base_uri": "https://localhost:8080/"
        },
        "id": "5Bzi5NpXWee9",
        "outputId": "87adcebd-4db7-431f-ee4c-81d9cd64c724"
      },
      "execution_count": null,
      "outputs": [
        {
          "output_type": "stream",
          "name": "stdout",
          "text": [
            "12\n",
            "16\n",
            "4\n"
          ]
        }
      ]
    },
    {
      "cell_type": "markdown",
      "source": [
        "### Q1\n",
        "\n",
        "### 두 정수의 최소공배수를 구하라. 최소공배수는 두 정수의 배수인 수 중 최솟값을 가진 값을 수이다.\n",
        "\n",
        "### 예\n",
        "- 12, 16의 최소공배수 48\n",
        "- 2, 4의 최소공배수 4\n",
        "\n",
        "### tips\n",
        "- if 문에 조건이 두 개인 경우는 and 또는 or 논리연산자 사용\n",
        "\n",
        "\n",
        "### 제한사항 \n",
        "- 두 정수는 서로 다른 수이다."
      ],
      "metadata": {
        "id": "OeBfE0j0WTcm"
      }
    },
    {
      "cell_type": "code",
      "source": [
        "import math\n",
        "\n",
        "a = int(input())\n",
        "b = int(input())\n",
        "\n",
        "print(a*b//math.gcd(a,b))"
      ],
      "metadata": {
        "colab": {
          "base_uri": "https://localhost:8080/"
        },
        "id": "GZllKoi9WS2W",
        "outputId": "86b41350-8ab9-48de-963c-0cc1a2c0c093"
      },
      "execution_count": null,
      "outputs": [
        {
          "output_type": "stream",
          "name": "stdout",
          "text": [
            "12\n",
            "16\n",
            "48\n"
          ]
        }
      ]
    },
    {
      "cell_type": "markdown",
      "source": [
        "### Q2 (https://www.acmicpc.net/problem/1110)\n",
        "\n",
        "### 0보다 크거나 같고, 99보다 작거나 같은 정수가 주어질 때 다음과 같은 연산을 할 수 있다. 먼저 주어진 수가 10보다 작다면 앞에 0을 붙여 두 자리 수로 만들고, 각 자리의 숫자를 더한다. 그 다음, 주어진 수의 가장 오른쪽 자리 수와 앞에서 구한 합의 가장 오른쪽 자리 수를 이어 붙이면 새로운 수를 만들 수 있다. 다음 예를 보자.\n",
        "### 26부터 시작한다. 2+6 = 8이다. 새로운 수는 68이다. 6+8 = 14이다. 새로운 수는 84이다. 8+4 = 12이다. 새로운 수는 42이다. 4+2 = 6이다. 새로운 수는 26이다.\n",
        "### 위의 예는 4번만에 원래 수로 돌아올 수 있다. 따라서 26의 사이클의 길이는 4이다.\n",
        "### N이 주어졌을 때, N의 사이클의 길이를 구하는 프로그램을 작성하시오.\n",
        "\n",
        "### 입력\n",
        "- 첫째 줄에 N이 주어진다. N은 0보다 크거나 같고, 99보다 작거나 같은 정수이다.\n",
        "### 출력\n",
        "- 첫째 줄에 N의 사이클 길이를 출력한다.\n",
        "\n",
        "### 입출력 예\n",
        "|입력 |출력\n",
        "|----|----\n",
        "|26|4\n",
        "|55|3\n",
        "|1|60\n",
        "|0|1\n",
        "|71|12"
      ],
      "metadata": {
        "id": "qIYDA04dZRPc"
      }
    },
    {
      "cell_type": "code",
      "source": [
        "N = int(input())\n",
        "num = N\n",
        "count = 0\n",
        "\n",
        "while(1):\n",
        "  a = num // 10\n",
        "  b = num % 10\n",
        "  c = (a+b) % 10\n",
        "  num = b*10 + c\n",
        "\n",
        "  count +=1\n",
        "\n",
        "  if num==N:\n",
        "    break\n",
        "\n",
        "print(count)"
      ],
      "metadata": {
        "colab": {
          "base_uri": "https://localhost:8080/"
        },
        "id": "z1rX5tlPZUlx",
        "outputId": "25d479d6-b4f4-473e-d4c0-54016c5fc694"
      },
      "execution_count": null,
      "outputs": [
        {
          "output_type": "stream",
          "name": "stdout",
          "text": [
            "55\n",
            "3\n"
          ]
        }
      ]
    },
    {
      "cell_type": "markdown",
      "source": [
        "### Q3 (https://programmers.co.kr/learn/courses/30/lessons/77884)\n",
        "\n",
        "### 두 정수 left와 right가 매개변수로 주어집니다. left부터 right까지의 모든 수들 중에서, 약수의 개수가 짝수인 수는 더하고, 약수의 개수가 홀수인 수는 뺀 수를 return 하도록 solution 함수를 완성해주세요.\n",
        "\n",
        "### 제한사항\n",
        "- 1 ≤ left ≤ right ≤ 1,000\n",
        "\n",
        "### 입출력 예\n",
        "|left |right |result\n",
        "|-----|------|------\n",
        "|13 |17 |43\n",
        "|24 |27 |52\n",
        "\n",
        "### 입출력 예 left 13, right 17\n",
        "\n",
        "- 다음 표는 13부터 17까지의 수들의 약수를 모두 나타낸 것입니다.\n",
        "|수\t|약수\t|약수의 개수\n",
        "|---|-----|-------\n",
        "|13\t|1, 13\t|2\n",
        "|14\t|1, 2, 7, 14\t|4\n",
        "|15\t|1, 3, 5, 15\t|4\n",
        "|16\t|1, 2, 4, 8, 16\t|5\n",
        "|17\t|1, 17\t|2\n",
        "- 따라서, 13 + 14 + 15 - 16 + 17 = 43을 return 해야 합니다."
      ],
      "metadata": {
        "id": "dkG1s8hNczft"
      }
    },
    {
      "cell_type": "code",
      "source": [
        "left = int(input())\n",
        "right = int(input())\n",
        "sum = 0\n",
        "\n",
        "for i in range(left,right+1):\n",
        "  cnt = 0\n",
        "  for j in range(1,i+1):\n",
        "    if i%j==0:\n",
        "      cnt+=1\n",
        "\n",
        "  if cnt%2==0:\n",
        "    sum+=i\n",
        "  else:\n",
        "    sum-=i\n",
        "\n",
        "print(sum)"
      ],
      "metadata": {
        "colab": {
          "base_uri": "https://localhost:8080/"
        },
        "id": "FAl-qfALczpj",
        "outputId": "a4f24381-e182-4609-bc07-0190998cad29"
      },
      "execution_count": null,
      "outputs": [
        {
          "output_type": "stream",
          "name": "stdout",
          "text": [
            "24\n",
            "27\n",
            "52\n"
          ]
        }
      ]
    }
  ]
}